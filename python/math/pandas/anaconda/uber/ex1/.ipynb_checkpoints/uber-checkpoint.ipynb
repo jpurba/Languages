{
 "cells": [
  {
   "cell_type": "code",
   "execution_count": 16,
   "metadata": {},
   "outputs": [
    {
     "name": "stdout",
     "output_type": "stream",
     "text": [
      "Populating the interactive namespace from numpy and matplotlib\n"
     ]
    }
   ],
   "source": [
    "%pylab inline\n",
    "import pandas as pd\n",
    "import seaborn as sb"
   ]
  },
  {
   "cell_type": "code",
   "execution_count": 17,
   "metadata": {},
   "outputs": [],
   "source": [
    "data = pd.read_csv('uber-raw-data-apr14.csv')"
   ]
  },
  {
   "cell_type": "code",
   "execution_count": 18,
   "metadata": {},
   "outputs": [
    {
     "data": {
      "text/html": [
       "<div>\n",
       "<style scoped>\n",
       "    .dataframe tbody tr th:only-of-type {\n",
       "        vertical-align: middle;\n",
       "    }\n",
       "\n",
       "    .dataframe tbody tr th {\n",
       "        vertical-align: top;\n",
       "    }\n",
       "\n",
       "    .dataframe thead th {\n",
       "        text-align: right;\n",
       "    }\n",
       "</style>\n",
       "<table border=\"1\" class=\"dataframe\">\n",
       "  <thead>\n",
       "    <tr style=\"text-align: right;\">\n",
       "      <th></th>\n",
       "      <th>Date/Time</th>\n",
       "      <th>Lat</th>\n",
       "      <th>Lon</th>\n",
       "      <th>Base</th>\n",
       "    </tr>\n",
       "  </thead>\n",
       "  <tbody>\n",
       "    <tr>\n",
       "      <td>0</td>\n",
       "      <td>4/1/2014 0:11:00</td>\n",
       "      <td>40.7690</td>\n",
       "      <td>-73.9549</td>\n",
       "      <td>B02512</td>\n",
       "    </tr>\n",
       "    <tr>\n",
       "      <td>1</td>\n",
       "      <td>4/1/2014 0:17:00</td>\n",
       "      <td>40.7267</td>\n",
       "      <td>-74.0345</td>\n",
       "      <td>B02512</td>\n",
       "    </tr>\n",
       "    <tr>\n",
       "      <td>2</td>\n",
       "      <td>4/1/2014 0:21:00</td>\n",
       "      <td>40.7316</td>\n",
       "      <td>-73.9873</td>\n",
       "      <td>B02512</td>\n",
       "    </tr>\n",
       "    <tr>\n",
       "      <td>3</td>\n",
       "      <td>4/1/2014 0:28:00</td>\n",
       "      <td>40.7588</td>\n",
       "      <td>-73.9776</td>\n",
       "      <td>B02512</td>\n",
       "    </tr>\n",
       "    <tr>\n",
       "      <td>4</td>\n",
       "      <td>4/1/2014 0:33:00</td>\n",
       "      <td>40.7594</td>\n",
       "      <td>-73.9722</td>\n",
       "      <td>B02512</td>\n",
       "    </tr>\n",
       "    <tr>\n",
       "      <td>...</td>\n",
       "      <td>...</td>\n",
       "      <td>...</td>\n",
       "      <td>...</td>\n",
       "      <td>...</td>\n",
       "    </tr>\n",
       "    <tr>\n",
       "      <td>564511</td>\n",
       "      <td>4/30/2014 23:22:00</td>\n",
       "      <td>40.7640</td>\n",
       "      <td>-73.9744</td>\n",
       "      <td>B02764</td>\n",
       "    </tr>\n",
       "    <tr>\n",
       "      <td>564512</td>\n",
       "      <td>4/30/2014 23:26:00</td>\n",
       "      <td>40.7629</td>\n",
       "      <td>-73.9672</td>\n",
       "      <td>B02764</td>\n",
       "    </tr>\n",
       "    <tr>\n",
       "      <td>564513</td>\n",
       "      <td>4/30/2014 23:31:00</td>\n",
       "      <td>40.7443</td>\n",
       "      <td>-73.9889</td>\n",
       "      <td>B02764</td>\n",
       "    </tr>\n",
       "    <tr>\n",
       "      <td>564514</td>\n",
       "      <td>4/30/2014 23:32:00</td>\n",
       "      <td>40.6756</td>\n",
       "      <td>-73.9405</td>\n",
       "      <td>B02764</td>\n",
       "    </tr>\n",
       "    <tr>\n",
       "      <td>564515</td>\n",
       "      <td>4/30/2014 23:48:00</td>\n",
       "      <td>40.6880</td>\n",
       "      <td>-73.9608</td>\n",
       "      <td>B02764</td>\n",
       "    </tr>\n",
       "  </tbody>\n",
       "</table>\n",
       "<p>564516 rows × 4 columns</p>\n",
       "</div>"
      ],
      "text/plain": [
       "                 Date/Time      Lat      Lon    Base\n",
       "0         4/1/2014 0:11:00  40.7690 -73.9549  B02512\n",
       "1         4/1/2014 0:17:00  40.7267 -74.0345  B02512\n",
       "2         4/1/2014 0:21:00  40.7316 -73.9873  B02512\n",
       "3         4/1/2014 0:28:00  40.7588 -73.9776  B02512\n",
       "4         4/1/2014 0:33:00  40.7594 -73.9722  B02512\n",
       "...                    ...      ...      ...     ...\n",
       "564511  4/30/2014 23:22:00  40.7640 -73.9744  B02764\n",
       "564512  4/30/2014 23:26:00  40.7629 -73.9672  B02764\n",
       "564513  4/30/2014 23:31:00  40.7443 -73.9889  B02764\n",
       "564514  4/30/2014 23:32:00  40.6756 -73.9405  B02764\n",
       "564515  4/30/2014 23:48:00  40.6880 -73.9608  B02764\n",
       "\n",
       "[564516 rows x 4 columns]"
      ]
     },
     "execution_count": 18,
     "metadata": {},
     "output_type": "execute_result"
    }
   ],
   "source": [
    "data"
   ]
  },
  {
   "cell_type": "code",
   "execution_count": 19,
   "metadata": {},
   "outputs": [
    {
     "data": {
      "text/plain": [
       "0           4/1/2014 0:11:00\n",
       "1           4/1/2014 0:17:00\n",
       "2           4/1/2014 0:21:00\n",
       "3           4/1/2014 0:28:00\n",
       "4           4/1/2014 0:33:00\n",
       "                 ...        \n",
       "564511    4/30/2014 23:22:00\n",
       "564512    4/30/2014 23:26:00\n",
       "564513    4/30/2014 23:31:00\n",
       "564514    4/30/2014 23:32:00\n",
       "564515    4/30/2014 23:48:00\n",
       "Name: Date/Time, Length: 564516, dtype: object"
      ]
     },
     "execution_count": 19,
     "metadata": {},
     "output_type": "execute_result"
    }
   ],
   "source": [
    "data['Date/Time']"
   ]
  },
  {
   "cell_type": "code",
   "execution_count": 20,
   "metadata": {},
   "outputs": [
    {
     "data": {
      "text/html": [
       "<div>\n",
       "<style scoped>\n",
       "    .dataframe tbody tr th:only-of-type {\n",
       "        vertical-align: middle;\n",
       "    }\n",
       "\n",
       "    .dataframe tbody tr th {\n",
       "        vertical-align: top;\n",
       "    }\n",
       "\n",
       "    .dataframe thead th {\n",
       "        text-align: right;\n",
       "    }\n",
       "</style>\n",
       "<table border=\"1\" class=\"dataframe\">\n",
       "  <thead>\n",
       "    <tr style=\"text-align: right;\">\n",
       "      <th></th>\n",
       "      <th>Date/Time</th>\n",
       "      <th>Lat</th>\n",
       "      <th>Lon</th>\n",
       "      <th>Base</th>\n",
       "    </tr>\n",
       "  </thead>\n",
       "  <tbody>\n",
       "    <tr>\n",
       "      <td>0</td>\n",
       "      <td>4/1/2014 0:11:00</td>\n",
       "      <td>40.7690</td>\n",
       "      <td>-73.9549</td>\n",
       "      <td>B02512</td>\n",
       "    </tr>\n",
       "    <tr>\n",
       "      <td>1</td>\n",
       "      <td>4/1/2014 0:17:00</td>\n",
       "      <td>40.7267</td>\n",
       "      <td>-74.0345</td>\n",
       "      <td>B02512</td>\n",
       "    </tr>\n",
       "    <tr>\n",
       "      <td>2</td>\n",
       "      <td>4/1/2014 0:21:00</td>\n",
       "      <td>40.7316</td>\n",
       "      <td>-73.9873</td>\n",
       "      <td>B02512</td>\n",
       "    </tr>\n",
       "    <tr>\n",
       "      <td>3</td>\n",
       "      <td>4/1/2014 0:28:00</td>\n",
       "      <td>40.7588</td>\n",
       "      <td>-73.9776</td>\n",
       "      <td>B02512</td>\n",
       "    </tr>\n",
       "    <tr>\n",
       "      <td>4</td>\n",
       "      <td>4/1/2014 0:33:00</td>\n",
       "      <td>40.7594</td>\n",
       "      <td>-73.9722</td>\n",
       "      <td>B02512</td>\n",
       "    </tr>\n",
       "  </tbody>\n",
       "</table>\n",
       "</div>"
      ],
      "text/plain": [
       "          Date/Time      Lat      Lon    Base\n",
       "0  4/1/2014 0:11:00  40.7690 -73.9549  B02512\n",
       "1  4/1/2014 0:17:00  40.7267 -74.0345  B02512\n",
       "2  4/1/2014 0:21:00  40.7316 -73.9873  B02512\n",
       "3  4/1/2014 0:28:00  40.7588 -73.9776  B02512\n",
       "4  4/1/2014 0:33:00  40.7594 -73.9722  B02512"
      ]
     },
     "execution_count": 20,
     "metadata": {},
     "output_type": "execute_result"
    }
   ],
   "source": [
    "data.head()"
   ]
  },
  {
   "cell_type": "code",
   "execution_count": 21,
   "metadata": {},
   "outputs": [
    {
     "data": {
      "text/html": [
       "<div>\n",
       "<style scoped>\n",
       "    .dataframe tbody tr th:only-of-type {\n",
       "        vertical-align: middle;\n",
       "    }\n",
       "\n",
       "    .dataframe tbody tr th {\n",
       "        vertical-align: top;\n",
       "    }\n",
       "\n",
       "    .dataframe thead th {\n",
       "        text-align: right;\n",
       "    }\n",
       "</style>\n",
       "<table border=\"1\" class=\"dataframe\">\n",
       "  <thead>\n",
       "    <tr style=\"text-align: right;\">\n",
       "      <th></th>\n",
       "      <th>Date/Time</th>\n",
       "      <th>Lat</th>\n",
       "      <th>Lon</th>\n",
       "      <th>Base</th>\n",
       "    </tr>\n",
       "  </thead>\n",
       "  <tbody>\n",
       "    <tr>\n",
       "      <td>564511</td>\n",
       "      <td>4/30/2014 23:22:00</td>\n",
       "      <td>40.7640</td>\n",
       "      <td>-73.9744</td>\n",
       "      <td>B02764</td>\n",
       "    </tr>\n",
       "    <tr>\n",
       "      <td>564512</td>\n",
       "      <td>4/30/2014 23:26:00</td>\n",
       "      <td>40.7629</td>\n",
       "      <td>-73.9672</td>\n",
       "      <td>B02764</td>\n",
       "    </tr>\n",
       "    <tr>\n",
       "      <td>564513</td>\n",
       "      <td>4/30/2014 23:31:00</td>\n",
       "      <td>40.7443</td>\n",
       "      <td>-73.9889</td>\n",
       "      <td>B02764</td>\n",
       "    </tr>\n",
       "    <tr>\n",
       "      <td>564514</td>\n",
       "      <td>4/30/2014 23:32:00</td>\n",
       "      <td>40.6756</td>\n",
       "      <td>-73.9405</td>\n",
       "      <td>B02764</td>\n",
       "    </tr>\n",
       "    <tr>\n",
       "      <td>564515</td>\n",
       "      <td>4/30/2014 23:48:00</td>\n",
       "      <td>40.6880</td>\n",
       "      <td>-73.9608</td>\n",
       "      <td>B02764</td>\n",
       "    </tr>\n",
       "  </tbody>\n",
       "</table>\n",
       "</div>"
      ],
      "text/plain": [
       "                 Date/Time      Lat      Lon    Base\n",
       "564511  4/30/2014 23:22:00  40.7640 -73.9744  B02764\n",
       "564512  4/30/2014 23:26:00  40.7629 -73.9672  B02764\n",
       "564513  4/30/2014 23:31:00  40.7443 -73.9889  B02764\n",
       "564514  4/30/2014 23:32:00  40.6756 -73.9405  B02764\n",
       "564515  4/30/2014 23:48:00  40.6880 -73.9608  B02764"
      ]
     },
     "execution_count": 21,
     "metadata": {},
     "output_type": "execute_result"
    }
   ],
   "source": [
    "data.tail()"
   ]
  },
  {
   "cell_type": "code",
   "execution_count": 22,
   "metadata": {},
   "outputs": [],
   "source": [
    "dt = 4/30/2014"
   ]
  },
  {
   "cell_type": "code",
   "execution_count": 23,
   "metadata": {},
   "outputs": [],
   "source": [
    "dt = '4/30/2014 23:22:00'"
   ]
  },
  {
   "cell_type": "code",
   "execution_count": 24,
   "metadata": {},
   "outputs": [
    {
     "name": "stdout",
     "output_type": "stream",
     "text": [
      "4/30/2014\n",
      "23:22:00\n"
     ]
    }
   ],
   "source": [
    "d, t = dt.split(' ')\n",
    "print(d)\n",
    "print(t)"
   ]
  },
  {
   "cell_type": "code",
   "execution_count": 25,
   "metadata": {},
   "outputs": [],
   "source": [
    "m,d,y = d.split('/')"
   ]
  },
  {
   "cell_type": "code",
   "execution_count": 26,
   "metadata": {},
   "outputs": [
    {
     "data": {
      "text/plain": [
       "'2014'"
      ]
     },
     "execution_count": 26,
     "metadata": {},
     "output_type": "execute_result"
    }
   ],
   "source": [
    "m\n",
    "d\n",
    "y"
   ]
  },
  {
   "cell_type": "code",
   "execution_count": 27,
   "metadata": {},
   "outputs": [
    {
     "data": {
      "text/plain": [
       "'4'"
      ]
     },
     "execution_count": 27,
     "metadata": {},
     "output_type": "execute_result"
    }
   ],
   "source": [
    "m"
   ]
  },
  {
   "cell_type": "code",
   "execution_count": 28,
   "metadata": {},
   "outputs": [
    {
     "data": {
      "text/plain": [
       "'30'"
      ]
     },
     "execution_count": 28,
     "metadata": {},
     "output_type": "execute_result"
    }
   ],
   "source": [
    "d"
   ]
  },
  {
   "cell_type": "code",
   "execution_count": 29,
   "metadata": {},
   "outputs": [],
   "source": [
    "d1=int(d)"
   ]
  },
  {
   "cell_type": "code",
   "execution_count": 30,
   "metadata": {},
   "outputs": [
    {
     "data": {
      "text/plain": [
       "30"
      ]
     },
     "execution_count": 30,
     "metadata": {},
     "output_type": "execute_result"
    }
   ],
   "source": [
    "d1"
   ]
  },
  {
   "cell_type": "code",
   "execution_count": 31,
   "metadata": {},
   "outputs": [
    {
     "data": {
      "text/plain": [
       "'4/30/2014 23:22:00'"
      ]
     },
     "execution_count": 31,
     "metadata": {},
     "output_type": "execute_result"
    }
   ],
   "source": [
    "dt"
   ]
  },
  {
   "cell_type": "code",
   "execution_count": 32,
   "metadata": {},
   "outputs": [
    {
     "ename": "AttributeError",
     "evalue": "'str' object has no attribute 'month'",
     "output_type": "error",
     "traceback": [
      "\u001b[1;31m---------------------------------------------------------------------------\u001b[0m",
      "\u001b[1;31mAttributeError\u001b[0m                            Traceback (most recent call last)",
      "\u001b[1;32m<ipython-input-32-aaf41f7f472e>\u001b[0m in \u001b[0;36m<module>\u001b[1;34m\u001b[0m\n\u001b[1;32m----> 1\u001b[1;33m \u001b[0mdt\u001b[0m\u001b[1;33m.\u001b[0m\u001b[0mmonth\u001b[0m\u001b[1;33m\u001b[0m\u001b[1;33m\u001b[0m\u001b[0m\n\u001b[0m",
      "\u001b[1;31mAttributeError\u001b[0m: 'str' object has no attribute 'month'"
     ]
    }
   ],
   "source": [
    "dt.month"
   ]
  },
  {
   "cell_type": "code",
   "execution_count": 33,
   "metadata": {},
   "outputs": [],
   "source": [
    "dt = pd.to_datetime(dt)"
   ]
  },
  {
   "cell_type": "code",
   "execution_count": 34,
   "metadata": {},
   "outputs": [
    {
     "data": {
      "text/plain": [
       "Timestamp('2014-04-30 23:22:00')"
      ]
     },
     "execution_count": 34,
     "metadata": {},
     "output_type": "execute_result"
    }
   ],
   "source": [
    "dt"
   ]
  },
  {
   "cell_type": "code",
   "execution_count": 35,
   "metadata": {},
   "outputs": [
    {
     "data": {
      "text/plain": [
       "4"
      ]
     },
     "execution_count": 35,
     "metadata": {},
     "output_type": "execute_result"
    }
   ],
   "source": [
    "dt.month"
   ]
  },
  {
   "cell_type": "code",
   "execution_count": 36,
   "metadata": {},
   "outputs": [
    {
     "data": {
      "text/plain": [
       "2014"
      ]
     },
     "execution_count": 36,
     "metadata": {},
     "output_type": "execute_result"
    }
   ],
   "source": [
    "dt.year"
   ]
  },
  {
   "cell_type": "code",
   "execution_count": 37,
   "metadata": {},
   "outputs": [
    {
     "data": {
      "text/plain": [
       "18"
      ]
     },
     "execution_count": 37,
     "metadata": {},
     "output_type": "execute_result"
    }
   ],
   "source": [
    "dt.week"
   ]
  },
  {
   "cell_type": "code",
   "execution_count": 38,
   "metadata": {},
   "outputs": [],
   "source": [
    "data['Date/Time'] = data['Date/Time'].map(pd.to_datetime)"
   ]
  },
  {
   "cell_type": "code",
   "execution_count": 39,
   "metadata": {},
   "outputs": [
    {
     "data": {
      "text/html": [
       "<div>\n",
       "<style scoped>\n",
       "    .dataframe tbody tr th:only-of-type {\n",
       "        vertical-align: middle;\n",
       "    }\n",
       "\n",
       "    .dataframe tbody tr th {\n",
       "        vertical-align: top;\n",
       "    }\n",
       "\n",
       "    .dataframe thead th {\n",
       "        text-align: right;\n",
       "    }\n",
       "</style>\n",
       "<table border=\"1\" class=\"dataframe\">\n",
       "  <thead>\n",
       "    <tr style=\"text-align: right;\">\n",
       "      <th></th>\n",
       "      <th>Date/Time</th>\n",
       "      <th>Lat</th>\n",
       "      <th>Lon</th>\n",
       "      <th>Base</th>\n",
       "    </tr>\n",
       "  </thead>\n",
       "  <tbody>\n",
       "    <tr>\n",
       "      <td>0</td>\n",
       "      <td>2014-04-01 00:11:00</td>\n",
       "      <td>40.7690</td>\n",
       "      <td>-73.9549</td>\n",
       "      <td>B02512</td>\n",
       "    </tr>\n",
       "    <tr>\n",
       "      <td>1</td>\n",
       "      <td>2014-04-01 00:17:00</td>\n",
       "      <td>40.7267</td>\n",
       "      <td>-74.0345</td>\n",
       "      <td>B02512</td>\n",
       "    </tr>\n",
       "    <tr>\n",
       "      <td>2</td>\n",
       "      <td>2014-04-01 00:21:00</td>\n",
       "      <td>40.7316</td>\n",
       "      <td>-73.9873</td>\n",
       "      <td>B02512</td>\n",
       "    </tr>\n",
       "    <tr>\n",
       "      <td>3</td>\n",
       "      <td>2014-04-01 00:28:00</td>\n",
       "      <td>40.7588</td>\n",
       "      <td>-73.9776</td>\n",
       "      <td>B02512</td>\n",
       "    </tr>\n",
       "    <tr>\n",
       "      <td>4</td>\n",
       "      <td>2014-04-01 00:33:00</td>\n",
       "      <td>40.7594</td>\n",
       "      <td>-73.9722</td>\n",
       "      <td>B02512</td>\n",
       "    </tr>\n",
       "  </tbody>\n",
       "</table>\n",
       "</div>"
      ],
      "text/plain": [
       "            Date/Time      Lat      Lon    Base\n",
       "0 2014-04-01 00:11:00  40.7690 -73.9549  B02512\n",
       "1 2014-04-01 00:17:00  40.7267 -74.0345  B02512\n",
       "2 2014-04-01 00:21:00  40.7316 -73.9873  B02512\n",
       "3 2014-04-01 00:28:00  40.7588 -73.9776  B02512\n",
       "4 2014-04-01 00:33:00  40.7594 -73.9722  B02512"
      ]
     },
     "execution_count": 39,
     "metadata": {},
     "output_type": "execute_result"
    }
   ],
   "source": [
    "data.head()"
   ]
  },
  {
   "cell_type": "code",
   "execution_count": 40,
   "metadata": {},
   "outputs": [
    {
     "data": {
      "text/plain": [
       "0        2014-04-01 00:11:00\n",
       "1        2014-04-01 00:17:00\n",
       "2        2014-04-01 00:21:00\n",
       "3        2014-04-01 00:28:00\n",
       "4        2014-04-01 00:33:00\n",
       "                 ...        \n",
       "564511   2014-04-30 23:22:00\n",
       "564512   2014-04-30 23:26:00\n",
       "564513   2014-04-30 23:31:00\n",
       "564514   2014-04-30 23:32:00\n",
       "564515   2014-04-30 23:48:00\n",
       "Name: Date/Time, Length: 564516, dtype: datetime64[ns]"
      ]
     },
     "execution_count": 40,
     "metadata": {},
     "output_type": "execute_result"
    }
   ],
   "source": [
    "data['Date/Time']"
   ]
  },
  {
   "cell_type": "code",
   "execution_count": 49,
   "metadata": {},
   "outputs": [],
   "source": [
    "def get_dom(dt):\n",
    "    return dt.day\n",
    "\n",
    "data['dom'] = data['Date/Time'].map(get_dom)"
   ]
  },
  {
   "cell_type": "code",
   "execution_count": 46,
   "metadata": {},
   "outputs": [],
   "source": [
    "dt = data['Date/Time'][500000]"
   ]
  },
  {
   "cell_type": "code",
   "execution_count": 48,
   "metadata": {},
   "outputs": [
    {
     "data": {
      "text/plain": [
       "24"
      ]
     },
     "execution_count": 48,
     "metadata": {},
     "output_type": "execute_result"
    }
   ],
   "source": [
    "dt.day"
   ]
  },
  {
   "cell_type": "code",
   "execution_count": 47,
   "metadata": {},
   "outputs": [],
   "source": [
    "dt = data['Date/Time'][500000]"
   ]
  },
  {
   "cell_type": "code",
   "execution_count": 50,
   "metadata": {},
   "outputs": [
    {
     "data": {
      "text/html": [
       "<div>\n",
       "<style scoped>\n",
       "    .dataframe tbody tr th:only-of-type {\n",
       "        vertical-align: middle;\n",
       "    }\n",
       "\n",
       "    .dataframe tbody tr th {\n",
       "        vertical-align: top;\n",
       "    }\n",
       "\n",
       "    .dataframe thead th {\n",
       "        text-align: right;\n",
       "    }\n",
       "</style>\n",
       "<table border=\"1\" class=\"dataframe\">\n",
       "  <thead>\n",
       "    <tr style=\"text-align: right;\">\n",
       "      <th></th>\n",
       "      <th>Date/Time</th>\n",
       "      <th>Lat</th>\n",
       "      <th>Lon</th>\n",
       "      <th>Base</th>\n",
       "      <th>dom</th>\n",
       "    </tr>\n",
       "  </thead>\n",
       "  <tbody>\n",
       "    <tr>\n",
       "      <td>564511</td>\n",
       "      <td>2014-04-30 23:22:00</td>\n",
       "      <td>40.7640</td>\n",
       "      <td>-73.9744</td>\n",
       "      <td>B02764</td>\n",
       "      <td>30</td>\n",
       "    </tr>\n",
       "    <tr>\n",
       "      <td>564512</td>\n",
       "      <td>2014-04-30 23:26:00</td>\n",
       "      <td>40.7629</td>\n",
       "      <td>-73.9672</td>\n",
       "      <td>B02764</td>\n",
       "      <td>30</td>\n",
       "    </tr>\n",
       "    <tr>\n",
       "      <td>564513</td>\n",
       "      <td>2014-04-30 23:31:00</td>\n",
       "      <td>40.7443</td>\n",
       "      <td>-73.9889</td>\n",
       "      <td>B02764</td>\n",
       "      <td>30</td>\n",
       "    </tr>\n",
       "    <tr>\n",
       "      <td>564514</td>\n",
       "      <td>2014-04-30 23:32:00</td>\n",
       "      <td>40.6756</td>\n",
       "      <td>-73.9405</td>\n",
       "      <td>B02764</td>\n",
       "      <td>30</td>\n",
       "    </tr>\n",
       "    <tr>\n",
       "      <td>564515</td>\n",
       "      <td>2014-04-30 23:48:00</td>\n",
       "      <td>40.6880</td>\n",
       "      <td>-73.9608</td>\n",
       "      <td>B02764</td>\n",
       "      <td>30</td>\n",
       "    </tr>\n",
       "  </tbody>\n",
       "</table>\n",
       "</div>"
      ],
      "text/plain": [
       "                 Date/Time      Lat      Lon    Base  dom\n",
       "564511 2014-04-30 23:22:00  40.7640 -73.9744  B02764   30\n",
       "564512 2014-04-30 23:26:00  40.7629 -73.9672  B02764   30\n",
       "564513 2014-04-30 23:31:00  40.7443 -73.9889  B02764   30\n",
       "564514 2014-04-30 23:32:00  40.6756 -73.9405  B02764   30\n",
       "564515 2014-04-30 23:48:00  40.6880 -73.9608  B02764   30"
      ]
     },
     "execution_count": 50,
     "metadata": {},
     "output_type": "execute_result"
    }
   ],
   "source": [
    "data.tail()"
   ]
  },
  {
   "cell_type": "code",
   "execution_count": 55,
   "metadata": {},
   "outputs": [],
   "source": [
    "def get_weekday(dt):\n",
    "    return dt.weekday()\n",
    "\n",
    "data['weekday'] = data['Date/Time'].map(get_weekday)"
   ]
  },
  {
   "cell_type": "code",
   "execution_count": 56,
   "metadata": {},
   "outputs": [
    {
     "data": {
      "text/html": [
       "<div>\n",
       "<style scoped>\n",
       "    .dataframe tbody tr th:only-of-type {\n",
       "        vertical-align: middle;\n",
       "    }\n",
       "\n",
       "    .dataframe tbody tr th {\n",
       "        vertical-align: top;\n",
       "    }\n",
       "\n",
       "    .dataframe thead th {\n",
       "        text-align: right;\n",
       "    }\n",
       "</style>\n",
       "<table border=\"1\" class=\"dataframe\">\n",
       "  <thead>\n",
       "    <tr style=\"text-align: right;\">\n",
       "      <th></th>\n",
       "      <th>Date/Time</th>\n",
       "      <th>Lat</th>\n",
       "      <th>Lon</th>\n",
       "      <th>Base</th>\n",
       "      <th>dom</th>\n",
       "      <th>weekday</th>\n",
       "      <th>hour</th>\n",
       "    </tr>\n",
       "  </thead>\n",
       "  <tbody>\n",
       "    <tr>\n",
       "      <td>564511</td>\n",
       "      <td>2014-04-30 23:22:00</td>\n",
       "      <td>40.7640</td>\n",
       "      <td>-73.9744</td>\n",
       "      <td>B02764</td>\n",
       "      <td>30</td>\n",
       "      <td>2</td>\n",
       "      <td>23</td>\n",
       "    </tr>\n",
       "    <tr>\n",
       "      <td>564512</td>\n",
       "      <td>2014-04-30 23:26:00</td>\n",
       "      <td>40.7629</td>\n",
       "      <td>-73.9672</td>\n",
       "      <td>B02764</td>\n",
       "      <td>30</td>\n",
       "      <td>2</td>\n",
       "      <td>23</td>\n",
       "    </tr>\n",
       "    <tr>\n",
       "      <td>564513</td>\n",
       "      <td>2014-04-30 23:31:00</td>\n",
       "      <td>40.7443</td>\n",
       "      <td>-73.9889</td>\n",
       "      <td>B02764</td>\n",
       "      <td>30</td>\n",
       "      <td>2</td>\n",
       "      <td>23</td>\n",
       "    </tr>\n",
       "    <tr>\n",
       "      <td>564514</td>\n",
       "      <td>2014-04-30 23:32:00</td>\n",
       "      <td>40.6756</td>\n",
       "      <td>-73.9405</td>\n",
       "      <td>B02764</td>\n",
       "      <td>30</td>\n",
       "      <td>2</td>\n",
       "      <td>23</td>\n",
       "    </tr>\n",
       "    <tr>\n",
       "      <td>564515</td>\n",
       "      <td>2014-04-30 23:48:00</td>\n",
       "      <td>40.6880</td>\n",
       "      <td>-73.9608</td>\n",
       "      <td>B02764</td>\n",
       "      <td>30</td>\n",
       "      <td>2</td>\n",
       "      <td>23</td>\n",
       "    </tr>\n",
       "  </tbody>\n",
       "</table>\n",
       "</div>"
      ],
      "text/plain": [
       "                 Date/Time      Lat      Lon    Base  dom  weekday  hour\n",
       "564511 2014-04-30 23:22:00  40.7640 -73.9744  B02764   30        2    23\n",
       "564512 2014-04-30 23:26:00  40.7629 -73.9672  B02764   30        2    23\n",
       "564513 2014-04-30 23:31:00  40.7443 -73.9889  B02764   30        2    23\n",
       "564514 2014-04-30 23:32:00  40.6756 -73.9405  B02764   30        2    23\n",
       "564515 2014-04-30 23:48:00  40.6880 -73.9608  B02764   30        2    23"
      ]
     },
     "execution_count": 56,
     "metadata": {},
     "output_type": "execute_result"
    }
   ],
   "source": [
    "data.tail()"
   ]
  },
  {
   "cell_type": "code",
   "execution_count": 57,
   "metadata": {},
   "outputs": [],
   "source": [
    "def get_hour(dt):\n",
    "    return dt.hour\n",
    "\n",
    "data['hour'] = data['Date/Time'].map(get_hour)"
   ]
  },
  {
   "cell_type": "code",
   "execution_count": 58,
   "metadata": {},
   "outputs": [
    {
     "data": {
      "text/html": [
       "<div>\n",
       "<style scoped>\n",
       "    .dataframe tbody tr th:only-of-type {\n",
       "        vertical-align: middle;\n",
       "    }\n",
       "\n",
       "    .dataframe tbody tr th {\n",
       "        vertical-align: top;\n",
       "    }\n",
       "\n",
       "    .dataframe thead th {\n",
       "        text-align: right;\n",
       "    }\n",
       "</style>\n",
       "<table border=\"1\" class=\"dataframe\">\n",
       "  <thead>\n",
       "    <tr style=\"text-align: right;\">\n",
       "      <th></th>\n",
       "      <th>Date/Time</th>\n",
       "      <th>Lat</th>\n",
       "      <th>Lon</th>\n",
       "      <th>Base</th>\n",
       "      <th>dom</th>\n",
       "      <th>weekday</th>\n",
       "      <th>hour</th>\n",
       "    </tr>\n",
       "  </thead>\n",
       "  <tbody>\n",
       "    <tr>\n",
       "      <td>564511</td>\n",
       "      <td>2014-04-30 23:22:00</td>\n",
       "      <td>40.7640</td>\n",
       "      <td>-73.9744</td>\n",
       "      <td>B02764</td>\n",
       "      <td>30</td>\n",
       "      <td>2</td>\n",
       "      <td>23</td>\n",
       "    </tr>\n",
       "    <tr>\n",
       "      <td>564512</td>\n",
       "      <td>2014-04-30 23:26:00</td>\n",
       "      <td>40.7629</td>\n",
       "      <td>-73.9672</td>\n",
       "      <td>B02764</td>\n",
       "      <td>30</td>\n",
       "      <td>2</td>\n",
       "      <td>23</td>\n",
       "    </tr>\n",
       "    <tr>\n",
       "      <td>564513</td>\n",
       "      <td>2014-04-30 23:31:00</td>\n",
       "      <td>40.7443</td>\n",
       "      <td>-73.9889</td>\n",
       "      <td>B02764</td>\n",
       "      <td>30</td>\n",
       "      <td>2</td>\n",
       "      <td>23</td>\n",
       "    </tr>\n",
       "    <tr>\n",
       "      <td>564514</td>\n",
       "      <td>2014-04-30 23:32:00</td>\n",
       "      <td>40.6756</td>\n",
       "      <td>-73.9405</td>\n",
       "      <td>B02764</td>\n",
       "      <td>30</td>\n",
       "      <td>2</td>\n",
       "      <td>23</td>\n",
       "    </tr>\n",
       "    <tr>\n",
       "      <td>564515</td>\n",
       "      <td>2014-04-30 23:48:00</td>\n",
       "      <td>40.6880</td>\n",
       "      <td>-73.9608</td>\n",
       "      <td>B02764</td>\n",
       "      <td>30</td>\n",
       "      <td>2</td>\n",
       "      <td>23</td>\n",
       "    </tr>\n",
       "  </tbody>\n",
       "</table>\n",
       "</div>"
      ],
      "text/plain": [
       "                 Date/Time      Lat      Lon    Base  dom  weekday  hour\n",
       "564511 2014-04-30 23:22:00  40.7640 -73.9744  B02764   30        2    23\n",
       "564512 2014-04-30 23:26:00  40.7629 -73.9672  B02764   30        2    23\n",
       "564513 2014-04-30 23:31:00  40.7443 -73.9889  B02764   30        2    23\n",
       "564514 2014-04-30 23:32:00  40.6756 -73.9405  B02764   30        2    23\n",
       "564515 2014-04-30 23:48:00  40.6880 -73.9608  B02764   30        2    23"
      ]
     },
     "execution_count": 58,
     "metadata": {},
     "output_type": "execute_result"
    }
   ],
   "source": [
    "data.tail()"
   ]
  },
  {
   "cell_type": "markdown",
   "metadata": {},
   "source": [
    "#analysis"
   ]
  },
  {
   "cell_type": "code",
   "execution_count": 64,
   "metadata": {},
   "outputs": [
    {
     "data": {
      "text/plain": [
       "(array([52721., 59680., 52581., 58631., 45427., 56764., 38781., 60673.,\n",
       "        64697., 74561.]),\n",
       " array([ 1. ,  3.9,  6.8,  9.7, 12.6, 15.5, 18.4, 21.3, 24.2, 27.1, 30. ]),\n",
       " <a list of 10 Patch objects>)"
      ]
     },
     "execution_count": 64,
     "metadata": {},
     "output_type": "execute_result"
    },
    {
     "data": {
      "image/png": "[encoded data removed]",
      "text/plain": [
       "<Figure size 432x288 with 1 Axes>"
      ]
     },
     "metadata": {
      "needs_background": "light"
     },
     "output_type": "display_data"
    }
   ],
   "source": [
    "hist(data.dom)"
   ]
  },
  {
   "cell_type": "code",
   "execution_count": 65,
   "metadata": {},
   "outputs": [
    {
     "data": {
      "text/plain": [
       "(array([14546., 17474., 20701., 26714., 19521., 13445., 19550., 16188.,\n",
       "        16843., 20041., 20420., 18170., 12112., 12674., 20641., 17717.,\n",
       "        20973., 18074., 14602., 11017., 13162., 16975., 20346., 23352.,\n",
       "        25095., 24925., 14677., 15475., 22835., 36251.]),\n",
       " array([ 1.        ,  1.96666667,  2.93333333,  3.9       ,  4.86666667,\n",
       "         5.83333333,  6.8       ,  7.76666667,  8.73333333,  9.7       ,\n",
       "        10.66666667, 11.63333333, 12.6       , 13.56666667, 14.53333333,\n",
       "        15.5       , 16.46666667, 17.43333333, 18.4       , 19.36666667,\n",
       "        20.33333333, 21.3       , 22.26666667, 23.23333333, 24.2       ,\n",
       "        25.16666667, 26.13333333, 27.1       , 28.06666667, 29.03333333,\n",
       "        30.        ]),\n",
       " <a list of 30 Patch objects>)"
      ]
     },
     "execution_count": 65,
     "metadata": {},
     "output_type": "execute_result"
    },
    {
     "data": {
      "image/png": "[encoded data removed]",
      "text/plain": [
       "<Figure size 432x288 with 1 Axes>"
      ]
     },
     "metadata": {
      "needs_background": "light"
     },
     "output_type": "display_data"
    }
   ],
   "source": [
    "hist(data.dom, bins=30)"
   ]
  },
  {
   "cell_type": "code",
   "execution_count": 67,
   "metadata": {},
   "outputs": [
    {
     "data": {
      "text/plain": [
       "(array([14546., 17474., 20701.,     0., 26714., 19521., 13445.,     0.,\n",
       "        19550., 16188.,     0., 16843., 20041., 20420.,     0., 18170.,\n",
       "        12112., 12674.,     0., 20641., 17717.,     0., 20973., 18074.,\n",
       "        14602.,     0., 11017., 13162., 16975.,     0., 20346., 23352.,\n",
       "            0., 25095., 24925., 14677.,     0., 15475., 22835., 36251.]),\n",
       " array([ 1.   ,  1.725,  2.45 ,  3.175,  3.9  ,  4.625,  5.35 ,  6.075,\n",
       "         6.8  ,  7.525,  8.25 ,  8.975,  9.7  , 10.425, 11.15 , 11.875,\n",
       "        12.6  , 13.325, 14.05 , 14.775, 15.5  , 16.225, 16.95 , 17.675,\n",
       "        18.4  , 19.125, 19.85 , 20.575, 21.3  , 22.025, 22.75 , 23.475,\n",
       "        24.2  , 24.925, 25.65 , 26.375, 27.1  , 27.825, 28.55 , 29.275,\n",
       "        30.   ]),\n",
       " <a list of 40 Patch objects>)"
      ]
     },
     "execution_count": 67,
     "metadata": {},
     "output_type": "execute_result"
    },
    {
     "data": {
      "image/png": "[encoded data removed]",
      "text/plain": [
       "<Figure size 432x288 with 1 Axes>"
      ]
     },
     "metadata": {
      "needs_background": "light"
     },
     "output_type": "display_data"
    }
   ],
   "source": [
    "hist(data.dom, bins=40)"
   ]
  },
  {
   "cell_type": "code",
   "execution_count": 72,
   "metadata": {},
   "outputs": [
    {
     "data": {
      "text/plain": [
       "Text(0.5, 1.0, 'Frequency by DoM - uber - Apr 2018')"
      ]
     },
     "execution_count": 72,
     "metadata": {},
     "output_type": "execute_result"
    },
    {
     "data": {
      "image/png": "[encoded data removed]",
      "text/plain": [
       "<Figure size 432x288 with 1 Axes>"
      ]
     },
     "metadata": {
      "needs_background": "light"
     },
     "output_type": "display_data"
    }
   ],
   "source": [
    "hist(data.dom, bins=30, width=.8, range=[0.5, 30.5])\n",
    "xlabel('date of the month')\n",
    "ylabel('frequency')\n",
    "title('Frequency by DoM - uber - Apr 2018')"
   ]
  },
  {
   "cell_type": "code",
   "execution_count": 75,
   "metadata": {},
   "outputs": [
    {
     "name": "stdout",
     "output_type": "stream",
     "text": [
      "(1,                  Date/Time      Lat      Lon    Base  dom  weekday  hour\n",
      "0      2014-04-01 00:11:00  40.7690 -73.9549  B02512    1        1     0\n",
      "1      2014-04-01 00:17:00  40.7267 -74.0345  B02512    1        1     0\n",
      "2      2014-04-01 00:21:00  40.7316 -73.9873  B02512    1        1     0\n",
      "3      2014-04-01 00:28:00  40.7588 -73.9776  B02512    1        1     0\n",
      "4      2014-04-01 00:33:00  40.7594 -73.9722  B02512    1        1     0\n",
      "...                    ...      ...      ...     ...  ...      ...   ...\n",
      "554926 2014-04-01 23:21:00  40.7219 -73.9920  B02764    1        1    23\n",
      "554927 2014-04-01 23:25:00  40.7261 -74.0027  B02764    1        1    23\n",
      "554928 2014-04-01 23:38:00  40.7364 -73.9926  B02764    1        1    23\n",
      "554929 2014-04-01 23:41:00  40.7149 -73.9405  B02764    1        1    23\n",
      "554930 2014-04-01 23:46:00  40.7493 -73.9768  B02764    1        1    23\n",
      "\n",
      "[14546 rows x 7 columns])\n"
     ]
    }
   ],
   "source": [
    "for k, rows in data.groupby('dom'):\n",
    "    print((k, rows))\n",
    "    break\n",
    "    #print((k, len(rows)))"
   ]
  },
  {
   "cell_type": "code",
   "execution_count": 77,
   "metadata": {},
   "outputs": [
    {
     "data": {
      "text/plain": [
       "dom\n",
       "1     14546\n",
       "2     17474\n",
       "3     20701\n",
       "4     26714\n",
       "5     19521\n",
       "6     13445\n",
       "7     19550\n",
       "8     16188\n",
       "9     16843\n",
       "10    20041\n",
       "11    20420\n",
       "12    18170\n",
       "13    12112\n",
       "14    12674\n",
       "15    20641\n",
       "16    17717\n",
       "17    20973\n",
       "18    18074\n",
       "19    14602\n",
       "20    11017\n",
       "21    13162\n",
       "22    16975\n",
       "23    20346\n",
       "24    23352\n",
       "25    25095\n",
       "26    24925\n",
       "27    14677\n",
       "28    15475\n",
       "29    22835\n",
       "30    36251\n",
       "dtype: int64"
      ]
     },
     "execution_count": 77,
     "metadata": {},
     "output_type": "execute_result"
    }
   ],
   "source": [
    "#for k, rows in data.groupby('dom'):\n",
    "    #print((k, len(rows)))\n",
    "\n",
    "def count_rows(rows):\n",
    "    return len(rows)\n",
    "\n",
    "by_date = data.groupby('dom').apply(count_rows)\n",
    "by_date"
   ]
  },
  {
   "cell_type": "code",
   "execution_count": 78,
   "metadata": {},
   "outputs": [
    {
     "data": {
      "text/plain": [
       "[<matplotlib.lines.Line2D at 0x1a948ed0710>]"
      ]
     },
     "execution_count": 78,
     "metadata": {},
     "output_type": "execute_result"
    },
    {
     "data": {
      "image/png": "[encoded data removed]",
      "text/plain": [
       "<Figure size 432x288 with 1 Axes>"
      ]
     },
     "metadata": {
      "needs_background": "light"
     },
     "output_type": "display_data"
    }
   ],
   "source": [
    "plot(by_date)"
   ]
  },
  {
   "cell_type": "code",
   "execution_count": 79,
   "metadata": {},
   "outputs": [
    {
     "data": {
      "text/plain": [
       "<BarContainer object of 30 artists>"
      ]
     },
     "execution_count": 79,
     "metadata": {},
     "output_type": "execute_result"
    },
    {
     "data": {
      "image/png": "[encoded data removed]",
      "text/plain": [
       "<Figure size 432x288 with 1 Axes>"
      ]
     },
     "metadata": {
      "needs_background": "light"
     },
     "output_type": "display_data"
    }
   ],
   "source": [
    "bar(range(1,31), by_date)"
   ]
  },
  {
   "cell_type": "code",
   "execution_count": 80,
   "metadata": {},
   "outputs": [
    {
     "data": {
      "text/plain": [
       "dom\n",
       "1     14546\n",
       "2     17474\n",
       "3     20701\n",
       "4     26714\n",
       "5     19521\n",
       "6     13445\n",
       "7     19550\n",
       "8     16188\n",
       "9     16843\n",
       "10    20041\n",
       "11    20420\n",
       "12    18170\n",
       "13    12112\n",
       "14    12674\n",
       "15    20641\n",
       "16    17717\n",
       "17    20973\n",
       "18    18074\n",
       "19    14602\n",
       "20    11017\n",
       "21    13162\n",
       "22    16975\n",
       "23    20346\n",
       "24    23352\n",
       "25    25095\n",
       "26    24925\n",
       "27    14677\n",
       "28    15475\n",
       "29    22835\n",
       "30    36251\n",
       "dtype: int64"
      ]
     },
     "execution_count": 80,
     "metadata": {},
     "output_type": "execute_result"
    }
   ],
   "source": [
    "by_date_sorted = by_date.sort_values()\n",
    "by_date"
   ]
  },
  {
   "cell_type": "code",
   "execution_count": null,
   "metadata": {},
   "outputs": [],
   "source": []
  }
 ],
 "metadata": {
  "kernelspec": {
   "display_name": "Python 3",
   "language": "python",
   "name": "python3"
  },
  "language_info": {
   "codemirror_mode": {
    "name": "ipython",
    "version": 3
   },
   "file_extension": ".py",
   "mimetype": "text/x-python",
   "name": "python",
   "nbconvert_exporter": "python",
   "pygments_lexer": "ipython3",
   "version": "3.7.3"
  }
 },
 "nbformat": 4,
 "nbformat_minor": 4
}
